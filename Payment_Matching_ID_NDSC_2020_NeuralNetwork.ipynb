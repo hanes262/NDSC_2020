{
  "nbformat": 4,
  "nbformat_minor": 0,
  "metadata": {
    "colab": {
      "name": "Payment Matching - ID NDSC 2020.ipynb",
      "provenance": []
    },
    "kernelspec": {
      "name": "python3",
      "display_name": "Python 3"
    }
  },
  "cells": [
    {
      "cell_type": "markdown",
      "metadata": {
        "id": "0lVc5RYdD_ng"
      },
      "source": [
        "##Description\n",
        "At Shopee, bank transfer is a payment method in most countries. When a buyer chooses to place an order using bank transfer, he/she is supposed to make the transfer within 2 days after he/she places the order.\n",
        "\n",
        "After he/she makes the transfer, Shopee will receive a bank statement from the bank and Shopee needs to compare and match the bank statement with the checkout information in order to confirm that this particular order has been paid. This process is called payment matching.\n",
        "\n",
        "Two criteria need to be met in order to match a bank statement with a checkout:\n",
        "\n",
        "Amount match: Statement amount equals checkout amount.\n",
        "Name match: Statement description “matches” checkout buyer name (Note: statement description usually contains buyer name)\n",
        "A proper match occurs when both the amount and the name matches on both bank statement and checkout list.\n",
        "\n",
        "Task\n",
        "Based on the two criteria, please match the Bank Statement IDs to the Checkout IDs. Please note that in the dataset provided, there are unique matches of each bank statement and checkout"
      ]
    },
    {
      "cell_type": "markdown",
      "metadata": {
        "id": "4fCfOuVOD3-J"
      },
      "source": [
        "Data Description\n",
        "bank_statement.csv:\n",
        "\n",
        "stmt_id: Bank statement ID\n",
        "stmt_amount: Bank statement amount\n",
        "description: Statement description received from bank. It is supposed to be matched to checkout buyer name.\n",
        "checkout.csv:\n",
        "\n",
        "ckt_id: Checkout ID\n",
        "ckt_amount: Checkout amount\n",
        "buyer_name: Buyer name that buyer fills in during checkout. It is supposed to be matched to bank statement description."
      ]
    },
    {
      "cell_type": "code",
      "metadata": {
        "id": "RDoJuy1rDkgR"
      },
      "source": [
        "import pandas as pd\n",
        "import numpy as np\n",
        "import matplotlib.pyplot as plt\n",
        "import seaborn as sns"
      ],
      "execution_count": 5,
      "outputs": []
    },
    {
      "cell_type": "code",
      "metadata": {
        "id": "mvP-VoFpEQdD"
      },
      "source": [
        "dfpay = pd.read_csv('drive/My Drive/bank_statement.csv')\n",
        "dfcek = pd.read_csv('drive/My Drive/checkout.csv')\n",
        "frames = [dfpay,dfcek]\n"
      ],
      "execution_count": 8,
      "outputs": []
    },
    {
      "cell_type": "code",
      "metadata": {
        "colab": {
          "base_uri": "https://localhost:8080/",
          "height": 191
        },
        "id": "DAmCuUocpzSJ",
        "outputId": "d32084bb-b1ab-48eb-fbd0-46e110cd4fcd"
      },
      "source": [
        "dfpay.head()"
      ],
      "execution_count": 9,
      "outputs": [
        {
          "output_type": "execute_result",
          "data": {
            "text/html": [
              "<div>\n",
              "<style scoped>\n",
              "    .dataframe tbody tr th:only-of-type {\n",
              "        vertical-align: middle;\n",
              "    }\n",
              "\n",
              "    .dataframe tbody tr th {\n",
              "        vertical-align: top;\n",
              "    }\n",
              "\n",
              "    .dataframe thead th {\n",
              "        text-align: right;\n",
              "    }\n",
              "</style>\n",
              "<table border=\"1\" class=\"dataframe\">\n",
              "  <thead>\n",
              "    <tr style=\"text-align: right;\">\n",
              "      <th></th>\n",
              "      <th>stmt_id</th>\n",
              "      <th>stmt_amount</th>\n",
              "      <th>desc</th>\n",
              "    </tr>\n",
              "  </thead>\n",
              "  <tbody>\n",
              "    <tr>\n",
              "      <th>0</th>\n",
              "      <td>1</td>\n",
              "      <td>100.00</td>\n",
              "      <td>INSTANT TRANSFER    BAW CGANBAWI YIWHI * LEZC ...</td>\n",
              "    </tr>\n",
              "    <tr>\n",
              "      <th>1</th>\n",
              "      <td>2</td>\n",
              "      <td>23.77</td>\n",
              "      <td>WOOG CARIZA NIWSI YO</td>\n",
              "    </tr>\n",
              "    <tr>\n",
              "      <th>2</th>\n",
              "      <td>3</td>\n",
              "      <td>18.00</td>\n",
              "      <td>ZOMAZAW MABIX ATMA *  BUGW * KZBUGW - TRANSFER...</td>\n",
              "    </tr>\n",
              "    <tr>\n",
              "      <th>3</th>\n",
              "      <td>4</td>\n",
              "      <td>21.87</td>\n",
              "      <td>TRANSFER GO LA/FA   AHHA PUYIMA        * YEBF ...</td>\n",
              "    </tr>\n",
              "    <tr>\n",
              "      <th>4</th>\n",
              "      <td>5</td>\n",
              "      <td>53.68</td>\n",
              "      <td>INSTANT TRANSFER    FABZUN WIQAT JIW FA* TEGF ...</td>\n",
              "    </tr>\n",
              "  </tbody>\n",
              "</table>\n",
              "</div>"
            ],
            "text/plain": [
              "   stmt_id  stmt_amount                                               desc\n",
              "0        1       100.00  INSTANT TRANSFER    BAW CGANBAWI YIWHI * LEZC ...\n",
              "1        2        23.77                              WOOG CARIZA NIWSI YO \n",
              "2        3        18.00  ZOMAZAW MABIX ATMA *  BUGW * KZBUGW - TRANSFER...\n",
              "3        4        21.87  TRANSFER GO LA/FA   AHHA PUYIMA        * YEBF ...\n",
              "4        5        53.68  INSTANT TRANSFER    FABZUN WIQAT JIW FA* TEGF ..."
            ]
          },
          "metadata": {
            "tags": []
          },
          "execution_count": 9
        }
      ]
    },
    {
      "cell_type": "code",
      "metadata": {
        "colab": {
          "base_uri": "https://localhost:8080/",
          "height": 191
        },
        "id": "tmklyyHxp5bf",
        "outputId": "ca5ebcce-7e7a-4f6e-b2ff-50cad1a9b8c9"
      },
      "source": [
        "dfcek.head()"
      ],
      "execution_count": 10,
      "outputs": [
        {
          "output_type": "execute_result",
          "data": {
            "text/html": [
              "<div>\n",
              "<style scoped>\n",
              "    .dataframe tbody tr th:only-of-type {\n",
              "        vertical-align: middle;\n",
              "    }\n",
              "\n",
              "    .dataframe tbody tr th {\n",
              "        vertical-align: top;\n",
              "    }\n",
              "\n",
              "    .dataframe thead th {\n",
              "        text-align: right;\n",
              "    }\n",
              "</style>\n",
              "<table border=\"1\" class=\"dataframe\">\n",
              "  <thead>\n",
              "    <tr style=\"text-align: right;\">\n",
              "      <th></th>\n",
              "      <th>ckt_id</th>\n",
              "      <th>ckt_amount</th>\n",
              "      <th>buyer_name</th>\n",
              "    </tr>\n",
              "  </thead>\n",
              "  <tbody>\n",
              "    <tr>\n",
              "      <th>0</th>\n",
              "      <td>1</td>\n",
              "      <td>20.00</td>\n",
              "      <td>SAVMUEJICE EPHOCP</td>\n",
              "    </tr>\n",
              "    <tr>\n",
              "      <th>1</th>\n",
              "      <td>2</td>\n",
              "      <td>14.91</td>\n",
              "      <td>LUHALLAK ZGANFAP HAIQAW VIP LOHK. CIQTI</td>\n",
              "    </tr>\n",
              "    <tr>\n",
              "      <th>2</th>\n",
              "      <td>3</td>\n",
              "      <td>13.20</td>\n",
              "      <td>SUQ UNAISIE</td>\n",
              "    </tr>\n",
              "    <tr>\n",
              "      <th>3</th>\n",
              "      <td>4</td>\n",
              "      <td>36.90</td>\n",
              "      <td>GOZK BIHKAUT LIV LATAPI</td>\n",
              "    </tr>\n",
              "    <tr>\n",
              "      <th>4</th>\n",
              "      <td>7</td>\n",
              "      <td>26.29</td>\n",
              "      <td>HUY ZABIRAN HATIZAN WIHMI IRYIZ</td>\n",
              "    </tr>\n",
              "  </tbody>\n",
              "</table>\n",
              "</div>"
            ],
            "text/plain": [
              "   ckt_id  ckt_amount                               buyer_name\n",
              "0       1       20.00                        SAVMUEJICE EPHOCP\n",
              "1       2       14.91  LUHALLAK ZGANFAP HAIQAW VIP LOHK. CIQTI\n",
              "2       3       13.20                              SUQ UNAISIE\n",
              "3       4       36.90                  GOZK BIHKAUT LIV LATAPI\n",
              "4       7       26.29         HUY ZABIRAN HATIZAN WIHMI IRYIZ "
            ]
          },
          "metadata": {
            "tags": []
          },
          "execution_count": 10
        }
      ]
    },
    {
      "cell_type": "code",
      "metadata": {
        "colab": {
          "base_uri": "https://localhost:8080/",
          "height": 191
        },
        "id": "VyBc7W__Xxfl",
        "outputId": "ba3c2e4f-130c-496a-8ddc-9cc5dd7fd11b"
      },
      "source": [
        "frames = pd.concat([dfpay, dfcek] ,axis=1) \n",
        "frames.head()"
      ],
      "execution_count": 12,
      "outputs": [
        {
          "output_type": "execute_result",
          "data": {
            "text/html": [
              "<div>\n",
              "<style scoped>\n",
              "    .dataframe tbody tr th:only-of-type {\n",
              "        vertical-align: middle;\n",
              "    }\n",
              "\n",
              "    .dataframe tbody tr th {\n",
              "        vertical-align: top;\n",
              "    }\n",
              "\n",
              "    .dataframe thead th {\n",
              "        text-align: right;\n",
              "    }\n",
              "</style>\n",
              "<table border=\"1\" class=\"dataframe\">\n",
              "  <thead>\n",
              "    <tr style=\"text-align: right;\">\n",
              "      <th></th>\n",
              "      <th>stmt_id</th>\n",
              "      <th>stmt_amount</th>\n",
              "      <th>desc</th>\n",
              "      <th>ckt_id</th>\n",
              "      <th>ckt_amount</th>\n",
              "      <th>buyer_name</th>\n",
              "    </tr>\n",
              "  </thead>\n",
              "  <tbody>\n",
              "    <tr>\n",
              "      <th>0</th>\n",
              "      <td>1</td>\n",
              "      <td>100.00</td>\n",
              "      <td>INSTANT TRANSFER    BAW CGANBAWI YIWHI * LEZC ...</td>\n",
              "      <td>1</td>\n",
              "      <td>20.00</td>\n",
              "      <td>SAVMUEJICE EPHOCP</td>\n",
              "    </tr>\n",
              "    <tr>\n",
              "      <th>1</th>\n",
              "      <td>2</td>\n",
              "      <td>23.77</td>\n",
              "      <td>WOOG CARIZA NIWSI YO</td>\n",
              "      <td>2</td>\n",
              "      <td>14.91</td>\n",
              "      <td>LUHALLAK ZGANFAP HAIQAW VIP LOHK. CIQTI</td>\n",
              "    </tr>\n",
              "    <tr>\n",
              "      <th>2</th>\n",
              "      <td>3</td>\n",
              "      <td>18.00</td>\n",
              "      <td>ZOMAZAW MABIX ATMA *  BUGW * KZBUGW - TRANSFER...</td>\n",
              "      <td>3</td>\n",
              "      <td>13.20</td>\n",
              "      <td>SUQ UNAISIE</td>\n",
              "    </tr>\n",
              "    <tr>\n",
              "      <th>3</th>\n",
              "      <td>4</td>\n",
              "      <td>21.87</td>\n",
              "      <td>TRANSFER GO LA/FA   AHHA PUYIMA        * YEBF ...</td>\n",
              "      <td>4</td>\n",
              "      <td>36.90</td>\n",
              "      <td>GOZK BIHKAUT LIV LATAPI</td>\n",
              "    </tr>\n",
              "    <tr>\n",
              "      <th>4</th>\n",
              "      <td>5</td>\n",
              "      <td>53.68</td>\n",
              "      <td>INSTANT TRANSFER    FABZUN WIQAT JIW FA* TEGF ...</td>\n",
              "      <td>7</td>\n",
              "      <td>26.29</td>\n",
              "      <td>HUY ZABIRAN HATIZAN WIHMI IRYIZ</td>\n",
              "    </tr>\n",
              "  </tbody>\n",
              "</table>\n",
              "</div>"
            ],
            "text/plain": [
              "   stmt_id  stmt_amount  ... ckt_amount                               buyer_name\n",
              "0        1       100.00  ...      20.00                        SAVMUEJICE EPHOCP\n",
              "1        2        23.77  ...      14.91  LUHALLAK ZGANFAP HAIQAW VIP LOHK. CIQTI\n",
              "2        3        18.00  ...      13.20                              SUQ UNAISIE\n",
              "3        4        21.87  ...      36.90                  GOZK BIHKAUT LIV LATAPI\n",
              "4        5        53.68  ...      26.29         HUY ZABIRAN HATIZAN WIHMI IRYIZ \n",
              "\n",
              "[5 rows x 6 columns]"
            ]
          },
          "metadata": {
            "tags": []
          },
          "execution_count": 12
        }
      ]
    },
    {
      "cell_type": "code",
      "metadata": {
        "colab": {
          "base_uri": "https://localhost:8080/",
          "height": 191
        },
        "id": "HONtxsZjFVdh",
        "outputId": "d3f3610d-085a-4fc4-ee9f-0974dffee796"
      },
      "source": [
        "dfpay.head()"
      ],
      "execution_count": null,
      "outputs": [
        {
          "output_type": "execute_result",
          "data": {
            "text/html": [
              "<div>\n",
              "<style scoped>\n",
              "    .dataframe tbody tr th:only-of-type {\n",
              "        vertical-align: middle;\n",
              "    }\n",
              "\n",
              "    .dataframe tbody tr th {\n",
              "        vertical-align: top;\n",
              "    }\n",
              "\n",
              "    .dataframe thead th {\n",
              "        text-align: right;\n",
              "    }\n",
              "</style>\n",
              "<table border=\"1\" class=\"dataframe\">\n",
              "  <thead>\n",
              "    <tr style=\"text-align: right;\">\n",
              "      <th></th>\n",
              "      <th>stmt_id</th>\n",
              "      <th>stmt_amount</th>\n",
              "      <th>desc</th>\n",
              "    </tr>\n",
              "  </thead>\n",
              "  <tbody>\n",
              "    <tr>\n",
              "      <th>0</th>\n",
              "      <td>1</td>\n",
              "      <td>100.00</td>\n",
              "      <td>INSTANT TRANSFER    BAW CGANBAWI YIWHI * LEZC ...</td>\n",
              "    </tr>\n",
              "    <tr>\n",
              "      <th>1</th>\n",
              "      <td>2</td>\n",
              "      <td>23.77</td>\n",
              "      <td>WOOG CARIZA NIWSI YO</td>\n",
              "    </tr>\n",
              "    <tr>\n",
              "      <th>2</th>\n",
              "      <td>3</td>\n",
              "      <td>18.00</td>\n",
              "      <td>ZOMAZAW MABIX ATMA *  BUGW * KZBUGW - TRANSFER...</td>\n",
              "    </tr>\n",
              "    <tr>\n",
              "      <th>3</th>\n",
              "      <td>4</td>\n",
              "      <td>21.87</td>\n",
              "      <td>TRANSFER GO LA/FA   AHHA PUYIMA        * YEBF ...</td>\n",
              "    </tr>\n",
              "    <tr>\n",
              "      <th>4</th>\n",
              "      <td>5</td>\n",
              "      <td>53.68</td>\n",
              "      <td>INSTANT TRANSFER    FABZUN WIQAT JIW FA* TEGF ...</td>\n",
              "    </tr>\n",
              "  </tbody>\n",
              "</table>\n",
              "</div>"
            ],
            "text/plain": [
              "   stmt_id  stmt_amount                                               desc\n",
              "0        1       100.00  INSTANT TRANSFER    BAW CGANBAWI YIWHI * LEZC ...\n",
              "1        2        23.77                              WOOG CARIZA NIWSI YO \n",
              "2        3        18.00  ZOMAZAW MABIX ATMA *  BUGW * KZBUGW - TRANSFER...\n",
              "3        4        21.87  TRANSFER GO LA/FA   AHHA PUYIMA        * YEBF ...\n",
              "4        5        53.68  INSTANT TRANSFER    FABZUN WIQAT JIW FA* TEGF ..."
            ]
          },
          "metadata": {
            "tags": []
          },
          "execution_count": 3
        }
      ]
    },
    {
      "cell_type": "code",
      "metadata": {
        "colab": {
          "base_uri": "https://localhost:8080/",
          "height": 191
        },
        "id": "H3R6p9e2FX2p",
        "outputId": "380f2593-a027-4a5d-b6af-cf7d4a37d7d7"
      },
      "source": [
        "dfcek.head()"
      ],
      "execution_count": null,
      "outputs": [
        {
          "output_type": "execute_result",
          "data": {
            "text/html": [
              "<div>\n",
              "<style scoped>\n",
              "    .dataframe tbody tr th:only-of-type {\n",
              "        vertical-align: middle;\n",
              "    }\n",
              "\n",
              "    .dataframe tbody tr th {\n",
              "        vertical-align: top;\n",
              "    }\n",
              "\n",
              "    .dataframe thead th {\n",
              "        text-align: right;\n",
              "    }\n",
              "</style>\n",
              "<table border=\"1\" class=\"dataframe\">\n",
              "  <thead>\n",
              "    <tr style=\"text-align: right;\">\n",
              "      <th></th>\n",
              "      <th>ckt_id</th>\n",
              "      <th>ckt_amount</th>\n",
              "      <th>buyer_name</th>\n",
              "    </tr>\n",
              "  </thead>\n",
              "  <tbody>\n",
              "    <tr>\n",
              "      <th>0</th>\n",
              "      <td>1</td>\n",
              "      <td>20.00</td>\n",
              "      <td>SAVMUEJICE EPHOCP</td>\n",
              "    </tr>\n",
              "    <tr>\n",
              "      <th>1</th>\n",
              "      <td>2</td>\n",
              "      <td>14.91</td>\n",
              "      <td>LUHALLAK ZGANFAP HAIQAW VIP LOHK. CIQTI</td>\n",
              "    </tr>\n",
              "    <tr>\n",
              "      <th>2</th>\n",
              "      <td>3</td>\n",
              "      <td>13.20</td>\n",
              "      <td>SUQ UNAISIE</td>\n",
              "    </tr>\n",
              "    <tr>\n",
              "      <th>3</th>\n",
              "      <td>4</td>\n",
              "      <td>36.90</td>\n",
              "      <td>GOZK BIHKAUT LIV LATAPI</td>\n",
              "    </tr>\n",
              "    <tr>\n",
              "      <th>4</th>\n",
              "      <td>7</td>\n",
              "      <td>26.29</td>\n",
              "      <td>HUY ZABIRAN HATIZAN WIHMI IRYIZ</td>\n",
              "    </tr>\n",
              "  </tbody>\n",
              "</table>\n",
              "</div>"
            ],
            "text/plain": [
              "   ckt_id  ckt_amount                               buyer_name\n",
              "0       1       20.00                        SAVMUEJICE EPHOCP\n",
              "1       2       14.91  LUHALLAK ZGANFAP HAIQAW VIP LOHK. CIQTI\n",
              "2       3       13.20                              SUQ UNAISIE\n",
              "3       4       36.90                  GOZK BIHKAUT LIV LATAPI\n",
              "4       7       26.29         HUY ZABIRAN HATIZAN WIHMI IRYIZ "
            ]
          },
          "metadata": {
            "tags": []
          },
          "execution_count": 6
        }
      ]
    },
    {
      "cell_type": "code",
      "metadata": {
        "colab": {
          "base_uri": "https://localhost:8080/"
        },
        "id": "5uh4hCkcFvVo",
        "outputId": "34dee744-2aec-42c0-a7a2-6b858e26038c"
      },
      "source": [
        "dfpay.info()"
      ],
      "execution_count": null,
      "outputs": [
        {
          "output_type": "stream",
          "text": [
            "<class 'pandas.core.frame.DataFrame'>\n",
            "RangeIndex: 240000 entries, 0 to 239999\n",
            "Data columns (total 3 columns):\n",
            " #   Column       Non-Null Count   Dtype  \n",
            "---  ------       --------------   -----  \n",
            " 0   stmt_id      240000 non-null  int64  \n",
            " 1   stmt_amount  240000 non-null  float64\n",
            " 2   desc         240000 non-null  object \n",
            "dtypes: float64(1), int64(1), object(1)\n",
            "memory usage: 5.5+ MB\n"
          ],
          "name": "stdout"
        }
      ]
    },
    {
      "cell_type": "code",
      "metadata": {
        "colab": {
          "base_uri": "https://localhost:8080/"
        },
        "id": "7H-MZ8raKLei",
        "outputId": "00fbf92d-8d80-4837-a91e-0492f4ed08e2"
      },
      "source": [
        "dfpay.isnull().sum()"
      ],
      "execution_count": null,
      "outputs": [
        {
          "output_type": "execute_result",
          "data": {
            "text/plain": [
              "stmt_id        0\n",
              "stmt_amount    0\n",
              "desc           0\n",
              "dtype: int64"
            ]
          },
          "metadata": {
            "tags": []
          },
          "execution_count": 9
        }
      ]
    },
    {
      "cell_type": "code",
      "metadata": {
        "colab": {
          "base_uri": "https://localhost:8080/"
        },
        "id": "KD2Qc5zAKVws",
        "outputId": "c63d17bb-9119-4d40-a10d-148f2a0c6791"
      },
      "source": [
        "dfpay.describe"
      ],
      "execution_count": null,
      "outputs": [
        {
          "output_type": "execute_result",
          "data": {
            "text/plain": [
              "<bound method NDFrame.describe of         stmt_id  stmt_amount                                               desc\n",
              "0             1       100.00  INSTANT TRANSFER    BAW CGANBAWI YIWHI * LEZC ...\n",
              "1             2        23.77                              WOOG CARIZA NIWSI YO \n",
              "2             3        18.00  ZOMAZAW MABIX ATMA *  BUGW * KZBUGW - TRANSFER...\n",
              "3             4        21.87  TRANSFER GO LA/FA   AHHA PUYIMA        * YEBF ...\n",
              "4             5        53.68  INSTANT TRANSFER    FABZUN WIQAT JIW FA* TEGF ...\n",
              "...         ...          ...                                                ...\n",
              "239995   239996        45.63                       RV WC  XUH AQLIXA GIXYI WAX \n",
              "239996   239997        63.30  TRANSFER RO MA/BA   EYEKIA AT GXAZMIB  * YELB ...\n",
              "239997   239998         9.76  INSTANT TRANSFER    PUZ JATITI WJAJIZAJ* TEDW ...\n",
              "239998   239999       145.00  WUVIJA XAJVISA FISD* SURWISZ POYER * AKSURWISZ...\n",
              "239999   240000        30.28  WEE BIAJ SUI       * BCC QD-SHOPEE LV XALDZ TR...\n",
              "\n",
              "[240000 rows x 3 columns]>"
            ]
          },
          "metadata": {
            "tags": []
          },
          "execution_count": 10
        }
      ]
    },
    {
      "cell_type": "code",
      "metadata": {
        "colab": {
          "base_uri": "https://localhost:8080/",
          "height": 352
        },
        "id": "-2iRqwGVLJdu",
        "outputId": "bf9e0e7a-3056-48c2-8512-c32a970ed384"
      },
      "source": [
        "sns.countplot(dfpay['stmt_amount'])"
      ],
      "execution_count": null,
      "outputs": [
        {
          "output_type": "stream",
          "text": [
            "/usr/local/lib/python3.6/dist-packages/seaborn/_decorators.py:43: FutureWarning: Pass the following variable as a keyword arg: x. From version 0.12, the only valid positional argument will be `data`, and passing other arguments without an explicit keyword will result in an error or misinterpretation.\n",
            "  FutureWarning\n"
          ],
          "name": "stderr"
        },
        {
          "output_type": "execute_result",
          "data": {
            "text/plain": [
              "<matplotlib.axes._subplots.AxesSubplot at 0x7f243ed1ef60>"
            ]
          },
          "metadata": {
            "tags": []
          },
          "execution_count": 11
        },
        {
          "output_type": "display_data",
          "data": {
            "image/png": "[encoded data removed]",
            "text/plain": [
              "<Figure size 432x288 with 1 Axes>"
            ]
          },
          "metadata": {
            "tags": [],
            "needs_background": "light"
          }
        }
      ]
    },
    {
      "cell_type": "code",
      "metadata": {
        "colab": {
          "base_uri": "https://localhost:8080/",
          "height": 191
        },
        "id": "iVCDdU17M1tv",
        "outputId": "7f327079-e572-4c64-a656-af771f5c1e9d"
      },
      "source": [
        "dfcek.tail()"
      ],
      "execution_count": null,
      "outputs": [
        {
          "output_type": "execute_result",
          "data": {
            "text/html": [
              "<div>\n",
              "<style scoped>\n",
              "    .dataframe tbody tr th:only-of-type {\n",
              "        vertical-align: middle;\n",
              "    }\n",
              "\n",
              "    .dataframe tbody tr th {\n",
              "        vertical-align: top;\n",
              "    }\n",
              "\n",
              "    .dataframe thead th {\n",
              "        text-align: right;\n",
              "    }\n",
              "</style>\n",
              "<table border=\"1\" class=\"dataframe\">\n",
              "  <thead>\n",
              "    <tr style=\"text-align: right;\">\n",
              "      <th></th>\n",
              "      <th>ckt_id</th>\n",
              "      <th>ckt_amount</th>\n",
              "      <th>buyer_name</th>\n",
              "    </tr>\n",
              "  </thead>\n",
              "  <tbody>\n",
              "    <tr>\n",
              "      <th>239995</th>\n",
              "      <td>329026</td>\n",
              "      <td>15.00</td>\n",
              "      <td>VAQFILAPA JIPTI NORABI</td>\n",
              "    </tr>\n",
              "    <tr>\n",
              "      <th>239996</th>\n",
              "      <td>329027</td>\n",
              "      <td>70.39</td>\n",
              "      <td>JIQI CUWAIVAC FIBQI IFVACIW</td>\n",
              "    </tr>\n",
              "    <tr>\n",
              "      <th>239997</th>\n",
              "      <td>329030</td>\n",
              "      <td>35.08</td>\n",
              "      <td>MFAFHIYAB JIYVI MFAQMUTTIY</td>\n",
              "    </tr>\n",
              "    <tr>\n",
              "      <th>239998</th>\n",
              "      <td>329031</td>\n",
              "      <td>20.62</td>\n",
              "      <td>VAHID DUBRQAVIBA JH FOQL ANAD</td>\n",
              "    </tr>\n",
              "    <tr>\n",
              "      <th>239999</th>\n",
              "      <td>329032</td>\n",
              "      <td>16.77</td>\n",
              "      <td>HAGOUF GOJBAQ</td>\n",
              "    </tr>\n",
              "  </tbody>\n",
              "</table>\n",
              "</div>"
            ],
            "text/plain": [
              "        ckt_id  ckt_amount                     buyer_name\n",
              "239995  329026       15.00         VAQFILAPA JIPTI NORABI\n",
              "239996  329027       70.39    JIQI CUWAIVAC FIBQI IFVACIW\n",
              "239997  329030       35.08    MFAFHIYAB JIYVI MFAQMUTTIY \n",
              "239998  329031       20.62  VAHID DUBRQAVIBA JH FOQL ANAD\n",
              "239999  329032       16.77                  HAGOUF GOJBAQ"
            ]
          },
          "metadata": {
            "tags": []
          },
          "execution_count": 12
        }
      ]
    },
    {
      "cell_type": "code",
      "metadata": {
        "colab": {
          "base_uri": "https://localhost:8080/"
        },
        "id": "vdFFaMWBN1l0",
        "outputId": "6913c9bb-e698-4bf7-d376-257f6f68f48d"
      },
      "source": [
        "dfcek.info()"
      ],
      "execution_count": null,
      "outputs": [
        {
          "output_type": "stream",
          "text": [
            "<class 'pandas.core.frame.DataFrame'>\n",
            "RangeIndex: 240000 entries, 0 to 239999\n",
            "Data columns (total 3 columns):\n",
            " #   Column      Non-Null Count   Dtype  \n",
            "---  ------      --------------   -----  \n",
            " 0   ckt_id      240000 non-null  int64  \n",
            " 1   ckt_amount  240000 non-null  float64\n",
            " 2   buyer_name  240000 non-null  object \n",
            "dtypes: float64(1), int64(1), object(1)\n",
            "memory usage: 5.5+ MB\n"
          ],
          "name": "stdout"
        }
      ]
    },
    {
      "cell_type": "code",
      "metadata": {
        "colab": {
          "base_uri": "https://localhost:8080/",
          "height": 191
        },
        "id": "XGWkNTUoUpns",
        "outputId": "db266e8d-9dce-47e6-9f89-c691c718d026"
      },
      "source": [
        "frames.head()"
      ],
      "execution_count": null,
      "outputs": [
        {
          "output_type": "execute_result",
          "data": {
            "text/html": [
              "<div>\n",
              "<style scoped>\n",
              "    .dataframe tbody tr th:only-of-type {\n",
              "        vertical-align: middle;\n",
              "    }\n",
              "\n",
              "    .dataframe tbody tr th {\n",
              "        vertical-align: top;\n",
              "    }\n",
              "\n",
              "    .dataframe thead th {\n",
              "        text-align: right;\n",
              "    }\n",
              "</style>\n",
              "<table border=\"1\" class=\"dataframe\">\n",
              "  <thead>\n",
              "    <tr style=\"text-align: right;\">\n",
              "      <th></th>\n",
              "      <th>stmt_id</th>\n",
              "      <th>stmt_amount</th>\n",
              "      <th>desc</th>\n",
              "      <th>ckt_id</th>\n",
              "      <th>ckt_amount</th>\n",
              "      <th>buyer_name</th>\n",
              "    </tr>\n",
              "  </thead>\n",
              "  <tbody>\n",
              "    <tr>\n",
              "      <th>0</th>\n",
              "      <td>1</td>\n",
              "      <td>100.00</td>\n",
              "      <td>INSTANT TRANSFER    BAW CGANBAWI YIWHI * LEZC ...</td>\n",
              "      <td>1</td>\n",
              "      <td>20.00</td>\n",
              "      <td>SAVMUEJICE EPHOCP</td>\n",
              "    </tr>\n",
              "    <tr>\n",
              "      <th>1</th>\n",
              "      <td>2</td>\n",
              "      <td>23.77</td>\n",
              "      <td>WOOG CARIZA NIWSI YO</td>\n",
              "      <td>2</td>\n",
              "      <td>14.91</td>\n",
              "      <td>LUHALLAK ZGANFAP HAIQAW VIP LOHK. CIQTI</td>\n",
              "    </tr>\n",
              "    <tr>\n",
              "      <th>2</th>\n",
              "      <td>3</td>\n",
              "      <td>18.00</td>\n",
              "      <td>ZOMAZAW MABIX ATMA *  BUGW * KZBUGW - TRANSFER...</td>\n",
              "      <td>3</td>\n",
              "      <td>13.20</td>\n",
              "      <td>SUQ UNAISIE</td>\n",
              "    </tr>\n",
              "    <tr>\n",
              "      <th>3</th>\n",
              "      <td>4</td>\n",
              "      <td>21.87</td>\n",
              "      <td>TRANSFER GO LA/FA   AHHA PUYIMA        * YEBF ...</td>\n",
              "      <td>4</td>\n",
              "      <td>36.90</td>\n",
              "      <td>GOZK BIHKAUT LIV LATAPI</td>\n",
              "    </tr>\n",
              "    <tr>\n",
              "      <th>4</th>\n",
              "      <td>5</td>\n",
              "      <td>53.68</td>\n",
              "      <td>INSTANT TRANSFER    FABZUN WIQAT JIW FA* TEGF ...</td>\n",
              "      <td>7</td>\n",
              "      <td>26.29</td>\n",
              "      <td>HUY ZABIRAN HATIZAN WIHMI IRYIZ</td>\n",
              "    </tr>\n",
              "  </tbody>\n",
              "</table>\n",
              "</div>"
            ],
            "text/plain": [
              "   stmt_id  stmt_amount  ... ckt_amount                               buyer_name\n",
              "0        1       100.00  ...      20.00                        SAVMUEJICE EPHOCP\n",
              "1        2        23.77  ...      14.91  LUHALLAK ZGANFAP HAIQAW VIP LOHK. CIQTI\n",
              "2        3        18.00  ...      13.20                              SUQ UNAISIE\n",
              "3        4        21.87  ...      36.90                  GOZK BIHKAUT LIV LATAPI\n",
              "4        5        53.68  ...      26.29         HUY ZABIRAN HATIZAN WIHMI IRYIZ \n",
              "\n",
              "[5 rows x 6 columns]"
            ]
          },
          "metadata": {
            "tags": []
          },
          "execution_count": 31
        }
      ]
    },
    {
      "cell_type": "code",
      "metadata": {
        "id": "mZ4qKFhbaVCN",
        "colab": {
          "base_uri": "https://localhost:8080/",
          "height": 391
        },
        "outputId": "b0d829b5-cff7-4205-ea96-e4f43748f0b2"
      },
      "source": [
        "y = frames.loc[dfpay['stmt_amount'] == dfcek['ckt_amount' ]]\n",
        "y"
      ],
      "execution_count": 14,
      "outputs": [
        {
          "output_type": "execute_result",
          "data": {
            "text/html": [
              "<div>\n",
              "<style scoped>\n",
              "    .dataframe tbody tr th:only-of-type {\n",
              "        vertical-align: middle;\n",
              "    }\n",
              "\n",
              "    .dataframe tbody tr th {\n",
              "        vertical-align: top;\n",
              "    }\n",
              "\n",
              "    .dataframe thead th {\n",
              "        text-align: right;\n",
              "    }\n",
              "</style>\n",
              "<table border=\"1\" class=\"dataframe\">\n",
              "  <thead>\n",
              "    <tr style=\"text-align: right;\">\n",
              "      <th></th>\n",
              "      <th>stmt_id</th>\n",
              "      <th>stmt_amount</th>\n",
              "      <th>desc</th>\n",
              "      <th>ckt_id</th>\n",
              "      <th>ckt_amount</th>\n",
              "      <th>buyer_name</th>\n",
              "    </tr>\n",
              "  </thead>\n",
              "  <tbody>\n",
              "    <tr>\n",
              "      <th>88</th>\n",
              "      <td>89</td>\n",
              "      <td>29.03</td>\n",
              "      <td>SHOPEE              WIOX ZQAQILAD PID W*  * YW -</td>\n",
              "      <td>119</td>\n",
              "      <td>29.03</td>\n",
              "      <td>CTEAT FEE FEPJ</td>\n",
              "    </tr>\n",
              "    <tr>\n",
              "      <th>4605</th>\n",
              "      <td>4606</td>\n",
              "      <td>13.03</td>\n",
              "      <td>NAP PUV TAVMAPAM KI* KALU SEBAM NAP TAVMAPAM *...</td>\n",
              "      <td>6286</td>\n",
              "      <td>13.03</td>\n",
              "      <td>BATQECCA CIBUS</td>\n",
              "    </tr>\n",
              "    <tr>\n",
              "      <th>7409</th>\n",
              "      <td>7410</td>\n",
              "      <td>28.00</td>\n",
              "      <td>A INSTANT     QOFTRANSFERN CFAIYUS AVUAY G</td>\n",
              "      <td>10123</td>\n",
              "      <td>28.00</td>\n",
              "      <td>GOPM ATTIW XIL GOPM LAHID</td>\n",
              "    </tr>\n",
              "    <tr>\n",
              "      <th>9479</th>\n",
              "      <td>9480</td>\n",
              "      <td>36.00</td>\n",
              "      <td>CELIPA CELIPA ECGIA CIP QIC</td>\n",
              "      <td>12953</td>\n",
              "      <td>36.00</td>\n",
              "      <td>LOMALLAC GMUTJI SIW GADDEM</td>\n",
              "    </tr>\n",
              "    <tr>\n",
              "      <th>10022</th>\n",
              "      <td>10023</td>\n",
              "      <td>52.00</td>\n",
              "      <td>A INSTANT     VMETRANSFERQLEA AWAS</td>\n",
              "      <td>13716</td>\n",
              "      <td>52.00</td>\n",
              "      <td>LIO REE CIV</td>\n",
              "    </tr>\n",
              "    <tr>\n",
              "      <th>...</th>\n",
              "      <td>...</td>\n",
              "      <td>...</td>\n",
              "      <td>...</td>\n",
              "      <td>...</td>\n",
              "      <td>...</td>\n",
              "      <td>...</td>\n",
              "    </tr>\n",
              "    <tr>\n",
              "      <th>218311</th>\n",
              "      <td>218312</td>\n",
              "      <td>60.00</td>\n",
              "      <td>A INSTANT     DULTRANSFERUR TAZEHAH KIDZI</td>\n",
              "      <td>299254</td>\n",
              "      <td>60.00</td>\n",
              "      <td>GINALCEEWI TAHALAHR</td>\n",
              "    </tr>\n",
              "    <tr>\n",
              "      <th>228328</th>\n",
              "      <td>228329</td>\n",
              "      <td>20.00</td>\n",
              "      <td>SAJAXUQ HUQIJA KISX*   * NL - TRANSFER TO A/C</td>\n",
              "      <td>312963</td>\n",
              "      <td>20.00</td>\n",
              "      <td>VUDAVVAZ BAQIM KIL AKZUC ABIB</td>\n",
              "    </tr>\n",
              "    <tr>\n",
              "      <th>233567</th>\n",
              "      <td>233568</td>\n",
              "      <td>13.80</td>\n",
              "      <td>BUTABAK FIR BUKA   * SHOPEE BOFIME * AB BOFIME -</td>\n",
              "      <td>320144</td>\n",
              "      <td>13.80</td>\n",
              "      <td>CEDEGA EILAG AWAR CIWRAI</td>\n",
              "    </tr>\n",
              "    <tr>\n",
              "      <th>234911</th>\n",
              "      <td>234912</td>\n",
              "      <td>69.00</td>\n",
              "      <td>TRANSFER HO WA/YA   FUVUZ YXARIBA TIFHI* KENY ...</td>\n",
              "      <td>321973</td>\n",
              "      <td>69.00</td>\n",
              "      <td>NOCQ IHCAN ANIGUR FIW ANIG</td>\n",
              "    </tr>\n",
              "    <tr>\n",
              "      <th>239409</th>\n",
              "      <td>239410</td>\n",
              "      <td>38.00</td>\n",
              "      <td>XALA                XALA HIDJI MOOD    * MCOYY...</td>\n",
              "      <td>328223</td>\n",
              "      <td>38.00</td>\n",
              "      <td>ADU AMIAWZI</td>\n",
              "    </tr>\n",
              "  </tbody>\n",
              "</table>\n",
              "<p>86 rows × 6 columns</p>\n",
              "</div>"
            ],
            "text/plain": [
              "        stmt_id  stmt_amount  ... ckt_amount                     buyer_name\n",
              "88           89        29.03  ...      29.03                 CTEAT FEE FEPJ\n",
              "4605       4606        13.03  ...      13.03                 BATQECCA CIBUS\n",
              "7409       7410        28.00  ...      28.00      GOPM ATTIW XIL GOPM LAHID\n",
              "9479       9480        36.00  ...      36.00     LOMALLAC GMUTJI SIW GADDEM\n",
              "10022     10023        52.00  ...      52.00                    LIO REE CIV\n",
              "...         ...          ...  ...        ...                            ...\n",
              "218311   218312        60.00  ...      60.00            GINALCEEWI TAHALAHR\n",
              "228328   228329        20.00  ...      20.00  VUDAVVAZ BAQIM KIL AKZUC ABIB\n",
              "233567   233568        13.80  ...      13.80       CEDEGA EILAG AWAR CIWRAI\n",
              "234911   234912        69.00  ...      69.00     NOCQ IHCAN ANIGUR FIW ANIG\n",
              "239409   239410        38.00  ...      38.00                    ADU AMIAWZI\n",
              "\n",
              "[86 rows x 6 columns]"
            ]
          },
          "metadata": {
            "tags": []
          },
          "execution_count": 14
        }
      ]
    },
    {
      "cell_type": "code",
      "metadata": {
        "id": "pkDX7zovb5ME"
      },
      "source": [
        "y.to_csv('my_submission.csv', index=False)"
      ],
      "execution_count": 17,
      "outputs": []
    },
    {
      "cell_type": "code",
      "metadata": {
        "colab": {
          "base_uri": "https://localhost:8080/"
        },
        "id": "zOlJfEghr_bw",
        "outputId": "e44b67bc-924d-4e23-af00-3bc4bc6d3d70"
      },
      "source": [
        "from google.colab import drive\n",
        "drive.mount('/content/drive')"
      ],
      "execution_count": 4,
      "outputs": [
        {
          "output_type": "stream",
          "text": [
            "Mounted at /content/drive\n"
          ],
          "name": "stdout"
        }
      ]
    },
    {
      "cell_type": "code",
      "metadata": {
        "id": "iD0NDZFrsRel"
      },
      "source": [
        ""
      ],
      "execution_count": null,
      "outputs": []
    }
  ]
}